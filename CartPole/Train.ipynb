{
 "cells": [
  {
   "cell_type": "code",
   "execution_count": 34,
   "id": "53584b94-793f-43a6-9743-4917d63425ed",
   "metadata": {
    "tags": []
   },
   "outputs": [],
   "source": [
    "from gym.spaces import Box, Discrete\n",
    "import numpy as np\n",
    "\n",
    "# Box: observation in a continuous range\n",
    "observation_space = Box(low=np.array([-0.4, -np.inf]),    #there are two variables with range [-0.4, 0.4] and (-infinity, infinity)\n",
    "                        high=np.array([0.4, np.inf]),     #and the observed data type is float \n",
    "                        dtype=np.float64)\n",
    "\n",
    "# DiscreteL \"Finite\" number of observations or actions\n",
    "action_space = Discrete(3)                               # there are only three actions the agent can take\n"
   ]
  },
  {
   "cell_type": "code",
   "execution_count": 35,
   "id": "2455b28d-57a8-4dfd-9f4a-7e57e0bda5a4",
   "metadata": {
    "tags": []
   },
   "outputs": [],
   "source": [
    "incomplete_number_of_inputs = observation_space.shape     # (2,)\n",
    "number_of_inputs = observation_space.shape[0]             # 2\n",
    "number_of_actor_outputs = action_space.n                  # 3"
   ]
  },
  {
   "cell_type": "code",
   "execution_count": 39,
   "id": "e9d8e6a1-2a0b-4715-90ac-84e2aff5ecea",
   "metadata": {
    "tags": []
   },
   "outputs": [],
   "source": [
    "#The imports needed for run the PPO_Agent\n",
    "import torch.nn as nn\n",
    "import torch.nn.functional as F\n",
    "import torch.optim as optim\n",
    "from torch.distributions import Categorical\n",
    "from torch import from_numpy, no_grad, save, load, tensor, clamp\n",
    "from torch import float as torch_float\n",
    "from torch import long as torch_long\n",
    "from torch import min as torch_min\n",
    "from torch.utils.data.sampler import BatchSampler, SubsetRandomSampler\n",
    "import numpy as np\n",
    "from torch import manual_seed\n",
    "from collections import namedtuple"
   ]
  },
  {
   "cell_type": "code",
   "execution_count": 40,
   "id": "f9f7c7d3-8bd0-40bc-8c89-ed9a56f5cc19",
   "metadata": {
    "tags": []
   },
   "outputs": [],
   "source": [
    "#from PPO_agent import PPOAgent class, Transition tuple\n",
    "class PPOAgent:\n",
    "    \"\"\"\n",
    "    PPOAgent implements the PPO RL algorithm (https://arxiv.org/abs/1707.06347).\n",
    "    It works with a set of discrete actions.\n",
    "    It uses the Actor and Critic neural network classes defined below.\n",
    "    \"\"\"\n",
    "    def __init__(self, number_of_inputs, number_of_actor_outputs, clip_param=0.2, max_grad_norm=0.5, ppo_update_iters=5,\n",
    "                 batch_size=8, gamma=0.99, use_cuda=False, actor_lr=0.001, critic_lr=0.003, seed=None):\n",
    "        super().__init__()\n",
    "        if seed is not None:\n",
    "            manual_seed(seed)\n",
    "\n",
    "        self.clip_param = clip_param\n",
    "        self.max_grad_norm = max_grad_norm\n",
    "        self.ppo_update_iters = ppo_update_iters\n",
    "        self.batch_size = batch_size\n",
    "        self.gamma = gamma\n",
    "        self.use_cuda = use_cuda\n",
    "\n",
    "        self.actor_net = Actor(number_of_inputs, number_of_actor_outputs)\n",
    "        self.critic_net = Critic(number_of_inputs)\n",
    "\n",
    "        if self.use_cuda:\n",
    "            self.actor_net.cuda()\n",
    "            self.critic_net.cuda()\n",
    "\n",
    "        self.actor_optimizer = optim.Adam(self.actor_net.parameters(), actor_lr)\n",
    "        self.critic_net_optimizer = optim.Adam(self.critic_net.parameters(), critic_lr)\n",
    "\n",
    "        self.buffer = []\n",
    "\n",
    "    def work(self, agent_input, type_=\"simple\"):\n",
    "        agent_input = from_numpy(np.array(agent_input)).float().unsqueeze(0)  # Add batch dimension with unsqueeze\n",
    "        if self.use_cuda:\n",
    "            agent_input = agent_input.cuda()\n",
    "        with no_grad():\n",
    "            action_prob = self.actor_net(agent_input)\n",
    "\n",
    "        if type_ == \"simple\":\n",
    "            output = [action_prob[0][i].data.tolist() for i in range(len(action_prob[0]))]\n",
    "            return output\n",
    "        elif type_ == \"selectAction\":\n",
    "            c = Categorical(action_prob)\n",
    "            action = c.sample()\n",
    "            return action.item(), action_prob[:, action.item()].item()\n",
    "        elif type_ == \"selectActionMax\":\n",
    "            return np.argmax(action_prob).item(), 1.0\n",
    "        else:\n",
    "            raise Exception(\"Wrong type in agent.work(), returning input\")\n",
    "\n",
    "    def get_value(self, state):\n",
    "        state = from_numpy(state)\n",
    "        with no_grad():\n",
    "            value = self.critic_net(state)\n",
    "        return value.item()\n",
    "\n",
    "    def save(self, path):\n",
    "        save(self.actor_net.state_dict(), path + '_actor.pkl')\n",
    "        save(self.critic_net.state_dict(), path + '_critic.pkl')\n",
    "\n",
    "    def load(self, path):\n",
    "        actor_state_dict = load(path + '_actor.pkl')\n",
    "        critic_state_dict = load(path + '_critic.pkl')\n",
    "        self.actor_net.load_state_dict(actor_state_dict)\n",
    "        self.critic_net.load_state_dict(critic_state_dict)\n",
    "\n",
    "    def store_transition(self, transition):\n",
    "        self.buffer.append(transition)\n",
    "\n",
    "    def train_step(self, batch_size=None):\n",
    "        if batch_size is None:\n",
    "            if len(self.buffer) < self.batch_size:\n",
    "                return\n",
    "            batch_size = self.batch_size\n",
    "\n",
    "        state = tensor([t.state for t in self.buffer], dtype=torch_float)\n",
    "        action = tensor([t.action for t in self.buffer], dtype=torch_long).view(-1, 1)\n",
    "        reward = [t.reward for t in self.buffer]\n",
    "        old_action_log_prob = tensor([t.a_log_prob for t in self.buffer], dtype=torch_float).view(-1, 1)\n",
    "\n",
    "        R = 0\n",
    "        Gt = []\n",
    "        for r in reward[::-1]:\n",
    "            R = r + self.gamma * R\n",
    "            Gt.insert(0, R)\n",
    "        Gt = tensor(Gt, dtype=torch_float)\n",
    "\n",
    "        if self.use_cuda:\n",
    "            state, action, old_action_log_prob = state.cuda(), action.cuda(), old_action_log_prob.cuda()\n",
    "            Gt = Gt.cuda()\n",
    "\n",
    "        # Repeat the update procedure for ppo_update_iters\n",
    "        for _ in range(self.ppo_update_iters):\n",
    "            for index in BatchSampler(SubsetRandomSampler(range(len(self.buffer))), batch_size, False):\n",
    "                Gt_index = Gt[index].view(-1, 1)\n",
    "                V = self.critic_net(state[index])\n",
    "                delta = Gt_index - V\n",
    "                advantage = delta.detach()\n",
    "\n",
    "                action_prob = self.actor_net(state[index]).gather(1, action[index])  # new policy\n",
    "\n",
    "                ratio = (action_prob / old_action_log_prob[index])  # Ratio between current and old policy probabilities\n",
    "                surr1 = ratio * advantage\n",
    "                surr2 = clamp(ratio, 1 - self.clip_param, 1 + self.clip_param) * advantage\n",
    "\n",
    "                action_loss = -torch_min(surr1, surr2).mean()  # MAX->MIN descent\n",
    "                self.actor_optimizer.zero_grad()  # Delete old gradients\n",
    "                action_loss.backward()  # Perform backward step to compute new gradients\n",
    "                nn.utils.clip_grad_norm_(self.actor_net.parameters(), self.max_grad_norm)  # Clip gradients\n",
    "                self.actor_optimizer.step()  # Perform training step based on gradients\n",
    "\n",
    "                value_loss = F.mse_loss(Gt_index, V)\n",
    "                self.critic_net_optimizer.zero_grad()\n",
    "                value_loss.backward()\n",
    "                nn.utils.clip_grad_norm_(self.critic_net.parameters(), self.max_grad_norm)\n",
    "                self.critic_net_optimizer.step()\n",
    "\n",
    "        # After each training step, the buffer is cleared\n",
    "        del self.buffer[:]\n",
    "        \n",
    "from collections import namedtuple       #Named_tuple, with addional elements similar to object\n",
    "Transition = namedtuple('Transition', ['state', 'action', 'a_log_prob', 'reward', 'next_state']) "
   ]
  },
  {
   "cell_type": "code",
   "execution_count": 41,
   "id": "f6b6a912-f805-4171-b87f-9136a40e72d1",
   "metadata": {
    "tags": []
   },
   "outputs": [],
   "source": [
    "# The Actor and Critic nodes are used with in the PPOAgent Class\n",
    "class Actor(nn.Module):\n",
    "    def __init__(self, number_of_inputs, number_of_outputs):\n",
    "        super(Actor, self).__init__()\n",
    "        self.fc1 = nn.Linear(number_of_inputs, 10)\n",
    "        self.fc2 = nn.Linear(10, 10)\n",
    "        self.action_head = nn.Linear(10, number_of_outputs)\n",
    "    def forward(self, x):\n",
    "        x = F.relu(self.fc1(x))\n",
    "        x = F.relu(self.fc2(x))\n",
    "        action_prob = F.softmax(self.action_head(x), dim=1)\n",
    "        return action_prob\n",
    "\n",
    "\n",
    "class Critic(nn.Module):\n",
    "    def __init__(self, number_of_inputs):\n",
    "        super(Critic, self).__init__()\n",
    "        self.fc1 = nn.Linear(number_of_inputs, 10)\n",
    "        self.fc2 = nn.Linear(10, 10)\n",
    "        self.state_value = nn.Linear(10, 1)\n",
    "    def forward(self, x):\n",
    "        x = F.relu(self.fc1(x))\n",
    "        x = F.relu(self.fc2(x))\n",
    "        value = self.state_value(x)\n",
    "        return value"
   ]
  },
  {
   "cell_type": "code",
   "execution_count": 6,
   "id": "8695c957-52a4-4f58-9c5f-92604b9376ab",
   "metadata": {},
   "outputs": [
    {
     "name": "stdout",
     "output_type": "stream",
     "text": [
      "[1 2 3 4 5]\n",
      "tensor([1, 2, 3, 4, 5], dtype=torch.int32)\n"
     ]
    }
   ],
   "source": [
    "import numpy as np\n",
    "import torch\n",
    "\n",
    "my_list = [1, 2, 3, 4, 5]\n",
    "numpy_array = np.array(my_list)  # Convert the list to a NumPy array\n",
    "print(numpy_array)\n",
    "\n",
    "new_array = torch.from_numpy(numpy_array)  # Create a new NumPy array from the existing NumPy array\n",
    "\n",
    "print(new_array)"
   ]
  },
  {
   "cell_type": "code",
   "execution_count": null,
   "id": "fc5dd227-bca8-4ca0-aec4-eb3fb169a799",
   "metadata": {},
   "outputs": [],
   "source": []
  },
  {
   "cell_type": "code",
   "execution_count": 70,
   "id": "3288a3ab-39f3-4b31-a208-83d6d7eb0c6c",
   "metadata": {
    "tags": []
   },
   "outputs": [
    {
     "name": "stdout",
     "output_type": "stream",
     "text": [
      "tensor([[1., 2., 3.]])\n"
     ]
    },
    {
     "ename": "TypeError",
     "evalue": "__init__() missing 1 required positional argument: 'number_of_outputs'",
     "output_type": "error",
     "traceback": [
      "\u001b[1;31m---------------------------------------------------------------------------\u001b[0m",
      "\u001b[1;31mTypeError\u001b[0m                                 Traceback (most recent call last)",
      "Cell \u001b[1;32mIn[70], line 11\u001b[0m\n\u001b[0;32m      8\u001b[0m \u001b[38;5;28mprint\u001b[39m(agent_input)\n\u001b[0;32m     10\u001b[0m \u001b[38;5;28;01mfrom\u001b[39;00m \u001b[38;5;21;01mtorch\u001b[39;00m \u001b[38;5;28;01mimport\u001b[39;00m no_grad\n\u001b[1;32m---> 11\u001b[0m \u001b[43mActor\u001b[49m\u001b[43m(\u001b[49m\u001b[43magent_input\u001b[49m\u001b[43m)\u001b[49m                      \u001b[38;5;66;03m#self.actor_net = Actor(number_of_inputs, number_of_actor_outputs)\u001b[39;00m\n\u001b[0;32m     12\u001b[0m \u001b[38;5;66;03m#if self.use_cuda:\u001b[39;00m\n\u001b[0;32m     13\u001b[0m \u001b[38;5;66;03m#    agent_input = agent_input.cuda()\u001b[39;00m\n\u001b[0;32m     14\u001b[0m \u001b[38;5;66;03m#with no_grad():\u001b[39;00m\n\u001b[0;32m     15\u001b[0m \u001b[38;5;66;03m#     action_prob = self.actor_net(agent_input)\u001b[39;00m\n",
      "\u001b[1;31mTypeError\u001b[0m: __init__() missing 1 required positional argument: 'number_of_outputs'"
     ]
    }
   ],
   "source": [
    "from torch import from_numpy\n",
    "import numpy as np\n",
    "numpy_array = np.array([1,2,3])             #[1,2,3], \"but its numpy\"\n",
    "tensor = from_numpy(numpy_array)            #tensor([1, 2, 3], dtype=torch.int32)\n",
    "tensor = tensor.float().unsqueeze(0)        #tensor([[1., 2., 3.]])       # doubles with two brackets\n",
    "agent_input = tensor\n",
    "#agent_input = from_numpy(np.array(agent_input)).float().unsqueeze(0)\\\n",
    "print(agent_input)\n",
    "\n",
    "from torch import no_grad\n",
    "Actor(agent_input)                      #self.actor_net = Actor(number_of_inputs, number_of_actor_outputs)\n",
    "#if self.use_cuda:\n",
    "#    agent_input = agent_input.cuda()\n",
    "#with no_grad():\n",
    "#     action_prob = self.actor_net(agent_input)"
   ]
  },
  {
   "cell_type": "code",
   "execution_count": 67,
   "id": "3f803485-fe1c-4bbd-9dcf-64aa1f74fed0",
   "metadata": {
    "tags": []
   },
   "outputs": [
    {
     "ename": "IndentationError",
     "evalue": "expected an indented block (2166547415.py, line 7)",
     "output_type": "error",
     "traceback": [
      "\u001b[1;36m  Cell \u001b[1;32mIn[67], line 7\u001b[1;36m\u001b[0m\n\u001b[1;33m    \u001b[0m\n\u001b[1;37m    ^\u001b[0m\n\u001b[1;31mIndentationError\u001b[0m\u001b[1;31m:\u001b[0m expected an indented block\n"
     ]
    }
   ],
   "source": [
    "\n"
   ]
  },
  {
   "cell_type": "code",
   "execution_count": 3,
   "id": "ee80e7fa-3444-4adb-8a7c-c9d621e95c12",
   "metadata": {},
   "outputs": [],
   "source": [
    "from torch.distributions import Categorical\n"
   ]
  },
  {
   "cell_type": "code",
   "execution_count": null,
   "id": "7cbfc355-cc1f-48a6-a70a-55ce8d74454c",
   "metadata": {},
   "outputs": [],
   "source": []
  }
 ],
 "metadata": {
  "kernelspec": {
   "display_name": "Python 3 (ipykernel)",
   "language": "python",
   "name": "python3"
  },
  "language_info": {
   "codemirror_mode": {
    "name": "ipython",
    "version": 3
   },
   "file_extension": ".py",
   "mimetype": "text/x-python",
   "name": "python",
   "nbconvert_exporter": "python",
   "pygments_lexer": "ipython3",
   "version": "3.9.1"
  }
 },
 "nbformat": 4,
 "nbformat_minor": 5
}
