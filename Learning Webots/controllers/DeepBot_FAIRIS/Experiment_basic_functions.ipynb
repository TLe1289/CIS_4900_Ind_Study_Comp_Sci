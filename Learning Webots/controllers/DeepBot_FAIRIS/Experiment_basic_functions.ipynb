{
 "cells": [
  {
   "cell_type": "code",
   "execution_count": 29,
   "id": "724f536e-851c-42a8-9089-1e761f150959",
   "metadata": {
    "tags": []
   },
   "outputs": [
    {
     "name": "stdout",
     "output_type": "stream",
     "text": [
      "Box([0. 0. 0. 0.], [4. 4. 4. 4.], (4,), float64)\n",
      "4\n"
     ]
    }
   ],
   "source": [
    "import numpy as np\n",
    "from gym.spaces import Box, Discrete\n",
    "observation_space = Box(low=np.array([0.0, 0.0, 0.0, 0.0]),\n",
    "                        high=np.array([4.0, 4.0, 4.0, 4.0]),\n",
    "                        dtype=np.float64)\n",
    "print(observation_space)\n",
    "print(observation_space.shape[0])"
   ]
  },
  {
   "cell_type": "code",
   "execution_count": 30,
   "id": "5add9cb3-4545-47b5-8904-2caa701aa475",
   "metadata": {
    "tags": []
   },
   "outputs": [
    {
     "name": "stdout",
     "output_type": "stream",
     "text": [
      "Box([  2.   2.   2.   2. 100. 100.], [  4.   4.   4.   4. 100. 100.], (6,), float64)\n",
      "6\n"
     ]
    }
   ],
   "source": [
    "import numpy as np\n",
    "from gym.spaces import Box, Discrete\n",
    "Sightseeing_space = Box(low=np.array([2.0,2.0,2.0,2.0,100,100]),\n",
    "                        high=np.array([4.0, 4.0, 4.0, 4.0,100,100]),\n",
    "                        dtype=np.float64)\n",
    "print(Sightseeing_space)\n",
    "print(Sightseeing_space.shape[0])"
   ]
  },
  {
   "cell_type": "code",
   "execution_count": 31,
   "id": "af102afa-5d8c-4965-9b6c-847203d7fdc0",
   "metadata": {},
   "outputs": [
    {
     "name": "stdout",
     "output_type": "stream",
     "text": [
      "3 2\n",
      "2 2\n",
      "5 1\n",
      "0 2\n",
      "3 0\n"
     ]
    }
   ],
   "source": [
    "from gym.spaces import Discrete\n",
    "action = Discrete(6)\n",
    "episodes = 1\n",
    "while (episodes<=5):\n",
    "    print(\"{} {}\".format(action.sample(), action.sample()))\n",
    "    episodes = episodes +1\n",
    "#Discrete space for finite possible OUTCOMES, used in Reinforcement Learning \n"
   ]
  },
  {
   "cell_type": "code",
   "execution_count": 32,
   "id": "55cecef6-6cde-4604-93e6-43295ded3796",
   "metadata": {
    "tags": []
   },
   "outputs": [],
   "source": [
    "from PPO_agent import PPOAgent\n",
    "from PPO_agent import Transition\n",
    "from utilities import normalize_to_range"
   ]
  },
  {
   "cell_type": "code",
   "execution_count": 35,
   "id": "4b1ef408-6fdd-4e55-8ccc-96eddcedba14",
   "metadata": {
    "tags": []
   },
   "outputs": [
    {
     "name": "stdout",
     "output_type": "stream",
     "text": [
      "4 6\n"
     ]
    }
   ],
   "source": [
    "number_of_actions = action.n   #n: The number of possible values in the discrete space.\n",
    "number_of_observations = observation_space.shape[0]\n",
    "print(\"{} {}\".format(number_of_observations,number_of_actions))\n",
    "agent = PPOAgent(number_of_observations,number_of_actions)"
   ]
  },
  {
   "cell_type": "code",
   "execution_count": null,
   "id": "a1242522-7b62-4729-9a76-a380cbba3267",
   "metadata": {},
   "outputs": [],
   "source": []
  }
 ],
 "metadata": {
  "kernelspec": {
   "display_name": "Python 3 (ipykernel)",
   "language": "python",
   "name": "python3"
  },
  "language_info": {
   "codemirror_mode": {
    "name": "ipython",
    "version": 3
   },
   "file_extension": ".py",
   "mimetype": "text/x-python",
   "name": "python",
   "nbconvert_exporter": "python",
   "pygments_lexer": "ipython3",
   "version": "3.9.1"
  }
 },
 "nbformat": 4,
 "nbformat_minor": 5
}
